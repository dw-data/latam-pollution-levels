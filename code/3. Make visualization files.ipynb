{
 "cells": [
  {
   "cell_type": "markdown",
   "id": "8cd8b85b",
   "metadata": {},
   "source": [
    "Computes the necessary files for the three Datawrapper data visualization pieces."
   ]
  },
  {
   "cell_type": "code",
   "execution_count": 279,
   "id": "b6006031",
   "metadata": {},
   "outputs": [],
   "source": [
    "from babel.dates import format_date\n",
    "from credentials import access_token # Create a credentials.py file with your API key in a 'key' variable\n",
    "from datetime import datetime, timedelta\n",
    "from datawrapper import Datawrapper\n",
    "import pandas as  pd"
   ]
  },
  {
   "cell_type": "code",
   "execution_count": 280,
   "id": "3b68a348",
   "metadata": {},
   "outputs": [],
   "source": [
    "dw = Datawrapper(access_token=access_token)"
   ]
  },
  {
   "cell_type": "code",
   "execution_count": 281,
   "id": "ef990c06",
   "metadata": {},
   "outputs": [
    {
     "name": "stderr",
     "output_type": "stream",
     "text": [
      "This method is deprecated and will be removed in a future version. Use get_account_info instead.\n"
     ]
    },
    {
     "data": {
      "text/plain": [
       "{'id': 539155,\n",
       " 'email': 'rodrigo.menegat-schuinski@dw.com',\n",
       " 'name': None,\n",
       " 'role': 'editor',\n",
       " 'language': 'en-US',\n",
       " 'presenceColor': 'color-dw-presence-40',\n",
       " 'avatar': None,\n",
       " 'customAvatar': None,\n",
       " 'teams': [{'id': 'dw',\n",
       "   'name': 'Deutsche Welle',\n",
       "   'url': '/v3/teams/dw',\n",
       "   'active': True}],\n",
       " 'chartCount': 212,\n",
       " 'url': '/v3/users/539155',\n",
       " 'activeTeam': 'dw',\n",
       " 'entitlements': {}}"
      ]
     },
     "execution_count": 281,
     "metadata": {},
     "output_type": "execute_result"
    }
   ],
   "source": [
    "dw.account_info()"
   ]
  },
  {
   "cell_type": "markdown",
   "id": "d3fc022e",
   "metadata": {},
   "source": [
    "#### Reading data"
   ]
  },
  {
   "cell_type": "code",
   "execution_count": 282,
   "id": "78b04d7d",
   "metadata": {},
   "outputs": [],
   "source": [
    "df = pd.read_csv(\"../output/city-recent-daily-means.csv\")"
   ]
  },
  {
   "cell_type": "code",
   "execution_count": 283,
   "id": "3f29dac9",
   "metadata": {},
   "outputs": [],
   "source": [
    "df = df.set_index(pd.to_datetime(df.date))"
   ]
  },
  {
   "cell_type": "code",
   "execution_count": 284,
   "id": "d0716dcf",
   "metadata": {},
   "outputs": [],
   "source": [
    "df = df.rename(columns={'mean':'daily_mean'})"
   ]
  },
  {
   "cell_type": "markdown",
   "id": "36926a78",
   "metadata": {},
   "source": [
    "#### Detects the months needed and merges"
   ]
  },
  {
   "cell_type": "code",
   "execution_count": 285,
   "id": "a5ee940f",
   "metadata": {},
   "outputs": [],
   "source": [
    "# Adds the month\n",
    "df['month'] = df.index.month"
   ]
  },
  {
   "cell_type": "code",
   "execution_count": 286,
   "id": "01ec2b88",
   "metadata": {},
   "outputs": [],
   "source": [
    "# Gets the latest month\n",
    "latest_month = df['month'].idxmax().month"
   ]
  },
  {
   "cell_type": "code",
   "execution_count": 287,
   "id": "98449f4d",
   "metadata": {},
   "outputs": [],
   "source": [
    "# Keeps only the latest month\n",
    "df = df[df['month']==latest_month]"
   ]
  },
  {
   "cell_type": "code",
   "execution_count": 288,
   "id": "7de863b9",
   "metadata": {},
   "outputs": [],
   "source": [
    "# Reads the associated data\n",
    "month_history = pd.read_csv(f\"../output/city-monthly-means/City_Month_{latest_month}_Mean\")\n",
    "month_history = month_history.rename(columns={\"mean\":\"historical_mean\"})"
   ]
  },
  {
   "cell_type": "code",
   "execution_count": 289,
   "id": "32e0b94c",
   "metadata": {},
   "outputs": [],
   "source": [
    "# Adds historical mean\n",
    "df = df.merge(month_history)"
   ]
  },
  {
   "cell_type": "code",
   "execution_count": 290,
   "id": "35ebf447",
   "metadata": {},
   "outputs": [],
   "source": [
    "# Converts from kg/m3 to microgram/m3\n",
    "df['daily_mean'], df['historical_mean'] = df['daily_mean'] * 1e9, df['historical_mean'] * 1e9"
   ]
  },
  {
   "cell_type": "code",
   "execution_count": 291,
   "id": "69a076f2",
   "metadata": {},
   "outputs": [],
   "source": [
    "# Gets the variation from the mean\n",
    "df['anomaly'] = df['daily_mean'] / df['historical_mean']"
   ]
  },
  {
   "cell_type": "code",
   "execution_count": 292,
   "id": "e9490894",
   "metadata": {},
   "outputs": [
    {
     "data": {
      "text/html": [
       "<div>\n",
       "<style scoped>\n",
       "    .dataframe tbody tr th:only-of-type {\n",
       "        vertical-align: middle;\n",
       "    }\n",
       "\n",
       "    .dataframe tbody tr th {\n",
       "        vertical-align: top;\n",
       "    }\n",
       "\n",
       "    .dataframe thead th {\n",
       "        text-align: right;\n",
       "    }\n",
       "</style>\n",
       "<table border=\"1\" class=\"dataframe\">\n",
       "  <thead>\n",
       "    <tr style=\"text-align: right;\">\n",
       "      <th></th>\n",
       "      <th>CTR_MN_ISO</th>\n",
       "      <th>CTR_MN_NM</th>\n",
       "      <th>ID_HDC_G0</th>\n",
       "      <th>P15</th>\n",
       "      <th>UC_NM_LST</th>\n",
       "      <th>UC_NM_MN</th>\n",
       "      <th>date</th>\n",
       "      <th>daily_mean</th>\n",
       "      <th>month</th>\n",
       "      <th>lat</th>\n",
       "      <th>lon</th>\n",
       "      <th>historical_mean</th>\n",
       "      <th>anomaly</th>\n",
       "    </tr>\n",
       "  </thead>\n",
       "  <tbody>\n",
       "    <tr>\n",
       "      <th>0</th>\n",
       "      <td>ARG</td>\n",
       "      <td>Argentina</td>\n",
       "      <td>962</td>\n",
       "      <td>441985.894928</td>\n",
       "      <td>San Juan</td>\n",
       "      <td>San Juan</td>\n",
       "      <td>2024-09-01</td>\n",
       "      <td>5.152734</td>\n",
       "      <td>9</td>\n",
       "      <td>-31.536676</td>\n",
       "      <td>-68.542058</td>\n",
       "      <td>5.142087</td>\n",
       "      <td>1.002071</td>\n",
       "    </tr>\n",
       "    <tr>\n",
       "      <th>1</th>\n",
       "      <td>ARG</td>\n",
       "      <td>Argentina</td>\n",
       "      <td>962</td>\n",
       "      <td>441985.894928</td>\n",
       "      <td>San Juan</td>\n",
       "      <td>San Juan</td>\n",
       "      <td>2024-09-02</td>\n",
       "      <td>17.472118</td>\n",
       "      <td>9</td>\n",
       "      <td>-31.536676</td>\n",
       "      <td>-68.542058</td>\n",
       "      <td>5.142087</td>\n",
       "      <td>3.397865</td>\n",
       "    </tr>\n",
       "    <tr>\n",
       "      <th>2</th>\n",
       "      <td>ARG</td>\n",
       "      <td>Argentina</td>\n",
       "      <td>962</td>\n",
       "      <td>441985.894928</td>\n",
       "      <td>San Juan</td>\n",
       "      <td>San Juan</td>\n",
       "      <td>2024-09-03</td>\n",
       "      <td>3.206359</td>\n",
       "      <td>9</td>\n",
       "      <td>-31.536676</td>\n",
       "      <td>-68.542058</td>\n",
       "      <td>5.142087</td>\n",
       "      <td>0.623552</td>\n",
       "    </tr>\n",
       "    <tr>\n",
       "      <th>3</th>\n",
       "      <td>ARG</td>\n",
       "      <td>Argentina</td>\n",
       "      <td>962</td>\n",
       "      <td>441985.894928</td>\n",
       "      <td>San Juan</td>\n",
       "      <td>San Juan</td>\n",
       "      <td>2024-09-04</td>\n",
       "      <td>5.140476</td>\n",
       "      <td>9</td>\n",
       "      <td>-31.536676</td>\n",
       "      <td>-68.542058</td>\n",
       "      <td>5.142087</td>\n",
       "      <td>0.999687</td>\n",
       "    </tr>\n",
       "    <tr>\n",
       "      <th>4</th>\n",
       "      <td>ARG</td>\n",
       "      <td>Argentina</td>\n",
       "      <td>962</td>\n",
       "      <td>441985.894928</td>\n",
       "      <td>San Juan</td>\n",
       "      <td>San Juan</td>\n",
       "      <td>2024-09-05</td>\n",
       "      <td>7.467998</td>\n",
       "      <td>9</td>\n",
       "      <td>-31.536676</td>\n",
       "      <td>-68.542058</td>\n",
       "      <td>5.142087</td>\n",
       "      <td>1.452328</td>\n",
       "    </tr>\n",
       "  </tbody>\n",
       "</table>\n",
       "</div>"
      ],
      "text/plain": [
       "  CTR_MN_ISO  CTR_MN_NM  ID_HDC_G0            P15 UC_NM_LST  UC_NM_MN   \n",
       "0        ARG  Argentina        962  441985.894928  San Juan  San Juan  \\\n",
       "1        ARG  Argentina        962  441985.894928  San Juan  San Juan   \n",
       "2        ARG  Argentina        962  441985.894928  San Juan  San Juan   \n",
       "3        ARG  Argentina        962  441985.894928  San Juan  San Juan   \n",
       "4        ARG  Argentina        962  441985.894928  San Juan  San Juan   \n",
       "\n",
       "         date  daily_mean  month        lat        lon  historical_mean   \n",
       "0  2024-09-01    5.152734      9 -31.536676 -68.542058         5.142087  \\\n",
       "1  2024-09-02   17.472118      9 -31.536676 -68.542058         5.142087   \n",
       "2  2024-09-03    3.206359      9 -31.536676 -68.542058         5.142087   \n",
       "3  2024-09-04    5.140476      9 -31.536676 -68.542058         5.142087   \n",
       "4  2024-09-05    7.467998      9 -31.536676 -68.542058         5.142087   \n",
       "\n",
       "    anomaly  \n",
       "0  1.002071  \n",
       "1  3.397865  \n",
       "2  0.623552  \n",
       "3  0.999687  \n",
       "4  1.452328  "
      ]
     },
     "execution_count": 292,
     "metadata": {},
     "output_type": "execute_result"
    }
   ],
   "source": [
    "df.head()"
   ]
  },
  {
   "cell_type": "markdown",
   "id": "9f9c0f9b",
   "metadata": {},
   "source": [
    "#### Selecting cities"
   ]
  },
  {
   "cell_type": "code",
   "execution_count": 293,
   "id": "74b7e710",
   "metadata": {},
   "outputs": [],
   "source": [
    "# Brazilian capitals, with the correct correspondence\n",
    "br_cities =  {\n",
    "    'Porto Alegre': 'Porto Alegre (RS)',\n",
    "    'Florianopolis': 'Florianópolis (SC)',\n",
    "    'Curitiba': 'Curitiba (PR)',\n",
    "    'Sao Paulo': 'São Paulo (SP)',\n",
    "    'Belo Horizonte': 'Belo Horizonte (MG)',\n",
    "    'Rio de Janeiro': 'Rio de Janeiro (RJ)',\n",
    "    'Vila Velha': 'Vitória (ES)', # Dado leva o nome de Vila Velha, mas é da região metropolitana de Vitória\n",
    "    'Cuiaba': 'Cuiabá (MT)',\n",
    "    'Campo Grande': 'Campo Grande (MS)',\n",
    "    'Brasilia': 'Brasília (DF)',\n",
    "    'Goiania': 'Goiânia (GO)',\n",
    "    'Palmas': 'Palmas (TO)',\n",
    "    'Manaus': 'Manaus (AM)',\n",
    "    'Belem': 'Belém (PA)',\n",
    "    'Rio Branco': 'Rio Branco (AC)',\n",
    "    'Boa Vista': 'Boa Vista (RR)',\n",
    "    'Macapa': 'Macapá (AP)',\n",
    "    'Porto Velho': 'Porto Velho (RO)',\n",
    "    'Sao Luis': 'São Luís (MA)',\n",
    "    'Teresina': 'Teresina (PI)',\n",
    "    'Natal': 'Natal (RN)',\n",
    "    'Fortaleza': 'Fortaleza (CE)',\n",
    "    'Recife': 'Recife (PE)',\n",
    "    'Joao Pessoa': 'João Pessoa (PB)',\n",
    "    'Aracaju': 'Aracaju (SE)',\n",
    "    'Maceio': 'Maceió (AL)',\n",
    "    'Salvador': 'Salvador (BA)'\n",
    "}"
   ]
  },
  {
   "cell_type": "code",
   "execution_count": 294,
   "id": "66d6adcf",
   "metadata": {},
   "outputs": [
    {
     "name": "stderr",
     "output_type": "stream",
     "text": [
      "/var/folders/yl/bd_xy2c53495c2z2g0w0yrzdtddnbq/T/ipykernel_23864/32914145.py:3: SettingWithCopyWarning: \n",
      "A value is trying to be set on a copy of a slice from a DataFrame.\n",
      "Try using .loc[row_indexer,col_indexer] = value instead\n",
      "\n",
      "See the caveats in the documentation: https://pandas.pydata.org/pandas-docs/stable/user_guide/indexing.html#returning-a-view-versus-a-copy\n",
      "  df_br['UC_NM_MN'] = df_br['UC_NM_MN'].replace(br_cities)\n"
     ]
    }
   ],
   "source": [
    "# The Brazilian charts will derive from here\n",
    "df_br = df[df.UC_NM_MN.isin(br_cities.keys())]\n",
    "df_br['UC_NM_MN'] = df_br['UC_NM_MN'].replace(br_cities)"
   ]
  },
  {
   "cell_type": "code",
   "execution_count": 295,
   "id": "2ee81751",
   "metadata": {},
   "outputs": [],
   "source": [
    "# The South American charts will derive from here\n",
    "# TO DO"
   ]
  },
  {
   "cell_type": "code",
   "execution_count": 296,
   "id": "e290c432",
   "metadata": {},
   "outputs": [
    {
     "name": "stderr",
     "output_type": "stream",
     "text": [
      "/var/folders/yl/bd_xy2c53495c2z2g0w0yrzdtddnbq/T/ipykernel_23864/155995396.py:1: SettingWithCopyWarning: \n",
      "A value is trying to be set on a copy of a slice from a DataFrame.\n",
      "Try using .loc[row_indexer,col_indexer] = value instead\n",
      "\n",
      "See the caveats in the documentation: https://pandas.pydata.org/pandas-docs/stable/user_guide/indexing.html#returning-a-view-versus-a-copy\n",
      "  df_br['datetime'] = pd.to_datetime(df.date)\n"
     ]
    }
   ],
   "source": [
    "df_br['datetime'] = pd.to_datetime(df.date)"
   ]
  },
  {
   "cell_type": "markdown",
   "id": "38f3e166",
   "metadata": {},
   "source": [
    "#### Multiline chart"
   ]
  },
  {
   "cell_type": "code",
   "execution_count": 297,
   "id": "02a85e87",
   "metadata": {},
   "outputs": [],
   "source": [
    "# Datawrapper forma\n",
    "dw_multiline_br = df_br.pivot(index='date', columns=['UC_NM_MN'], values='anomaly')"
   ]
  },
  {
   "cell_type": "code",
   "execution_count": 298,
   "id": "5c942112",
   "metadata": {},
   "outputs": [],
   "source": [
    "# Show in percentage points of total\n",
    "dw_multiline_br = dw_multiline_br * 100"
   ]
  },
  {
   "cell_type": "code",
   "execution_count": 299,
   "id": "dc15711d",
   "metadata": {},
   "outputs": [],
   "source": [
    "dw_multiline_br['baseline'] = 100"
   ]
  },
  {
   "cell_type": "code",
   "execution_count": 300,
   "id": "9523ec69",
   "metadata": {},
   "outputs": [],
   "source": [
    "# Date should be its own column\n",
    "dw_multiline_br = dw_multiline_br.reset_index()"
   ]
  },
  {
   "cell_type": "code",
   "execution_count": 301,
   "id": "f17d5a46",
   "metadata": {},
   "outputs": [
    {
     "data": {
      "text/plain": [
       "True"
      ]
     },
     "execution_count": 301,
     "metadata": {},
     "output_type": "execute_result"
    }
   ],
   "source": [
    "# This chart was created manually beforehand, on the id specified.\n",
    "# We can simply update the data using the API.\n",
    "chart_id = 'eIXW7'\n",
    "dw.add_data(chart_id, dw_multiline_br)"
   ]
  },
  {
   "cell_type": "code",
   "execution_count": 312,
   "id": "c8dd9373",
   "metadata": {},
   "outputs": [
    {
     "data": {
      "text/plain": [
       "'16/09/2024'"
      ]
     },
     "execution_count": 312,
     "metadata": {},
     "output_type": "execute_result"
    }
   ],
   "source": []
  },
  {
   "cell_type": "code",
   "execution_count": 309,
   "id": "5cf86e2a",
   "metadata": {},
   "outputs": [
    {
     "data": {
      "text/plain": [
       "{'notes': 'Dados atualizados em 16/09/2024'}"
      ]
     },
     "execution_count": 309,
     "metadata": {},
     "output_type": "execute_result"
    }
   ],
   "source": [
    "dw.get_chart(chart_id)['metadata']['annotate']"
   ]
  },
  {
   "cell_type": "code",
   "execution_count": 313,
   "id": "bfaac3c0",
   "metadata": {},
   "outputs": [
    {
     "ename": "SyntaxError",
     "evalue": "f-string: unmatched '(' (3543541013.py, line 3)",
     "output_type": "error",
     "traceback": [
      "\u001b[0;36m  Cell \u001b[0;32mIn[313], line 3\u001b[0;36m\u001b[0m\n\u001b[0;31m    f\"Datos atualizados em {datetime.now().strftime(\"%d/%m/%Y\")}\"}\u001b[0m\n\u001b[0m                                                     ^\u001b[0m\n\u001b[0;31mSyntaxError\u001b[0m\u001b[0;31m:\u001b[0m f-string: unmatched '('\n"
     ]
    }
   ],
   "source": [
    "dw.update_metadata(chart_id, {\n",
    "    \"annotate\": {\"notes\":\n",
    "                f\"Datos atualizados em {datetime.now().strftime(\"%d/%m/%Y\")}\"}\n",
    "})"
   ]
  },
  {
   "cell_type": "code",
   "execution_count": 302,
   "id": "2ab62ee8",
   "metadata": {},
   "outputs": [
    {
     "data": {
      "text/html": [
       "\n",
       "        <iframe\n",
       "            width=\"600\"\n",
       "            height=\"2201\"\n",
       "            src=\"https://datawrapper.dwcdn.net/eIXW7/31/\"\n",
       "            frameborder=\"0\"\n",
       "            allowfullscreen\n",
       "            \n",
       "        ></iframe>\n",
       "        "
      ],
      "text/plain": [
       "<IPython.lib.display.IFrame at 0x12b003c50>"
      ]
     },
     "execution_count": 302,
     "metadata": {},
     "output_type": "execute_result"
    }
   ],
   "source": [
    "dw.publish_chart(chart_id, display=True)"
   ]
  },
  {
   "cell_type": "code",
   "execution_count": null,
   "id": "54b38390",
   "metadata": {},
   "outputs": [],
   "source": [
    "dw_multiline_br.to_csv(\"../output/datawrapper/datawrapper-multiline-br.csv\", index=False)"
   ]
  },
  {
   "cell_type": "markdown",
   "id": "b42579a9",
   "metadata": {},
   "source": [
    "#### Pollution stripes"
   ]
  },
  {
   "cell_type": "code",
   "execution_count": null,
   "id": "d3e7acb7",
   "metadata": {},
   "outputs": [],
   "source": [
    "dw_stripes_br = df_br.pivot(index='UC_NM_MN', columns='date', values='daily_mean').reset_index()"
   ]
  },
  {
   "cell_type": "code",
   "execution_count": null,
   "id": "12ad62bb",
   "metadata": {},
   "outputs": [],
   "source": [
    "# Adds placeholder columns for sorting the most polluted first\n",
    "dw_stripes_br['weekly_mean'] = dw_stripes_br.loc[1:, dw_stripes_br.columns[2] : dw_stripes_br.columns[-1]].mean(axis=1)"
   ]
  },
  {
   "cell_type": "code",
   "execution_count": null,
   "id": "54ee2ff7",
   "metadata": {},
   "outputs": [],
   "source": [
    "dw_stripes_br = dw_stripes_br.sort_values(by='weekly_mean', ascending=False)\\\n",
    "    .drop(columns='weekly_mean')\\\n",
    "    .reset_index(drop=True)"
   ]
  },
  {
   "cell_type": "code",
   "execution_count": null,
   "id": "56d18d44",
   "metadata": {},
   "outputs": [],
   "source": [
    "# Adds the necessary extra row for information\n",
    "dw_stripes_br.loc[-1] = \"\"  # adding a row\n",
    "dw_stripes_br.index = dw_stripes_br.index + 1  # shifting index\n",
    "dw_stripes_br = dw_stripes_br.sort_index()  # sorting by index"
   ]
  },
  {
   "cell_type": "code",
   "execution_count": null,
   "id": "739cd670",
   "metadata": {},
   "outputs": [],
   "source": [
    "# Insert new column in specific position\n",
    "dw_stripes_br.insert(loc=1, column=\"label\", value=\"\")"
   ]
  },
  {
   "cell_type": "code",
   "execution_count": null,
   "id": "813df9ab",
   "metadata": {},
   "outputs": [],
   "source": [
    "# Adds other informative values\n",
    "min_date = pd.to_datetime(dw_stripes_br.columns[2]).strftime(\"%d/%m\")\n",
    "max_date = pd.to_datetime(dw_stripes_br.columns[-1]).strftime(\"%d/%m\")\n",
    "\n",
    "dw_stripes_br.loc[0, 'label'] = f'{min_date} – {max_date}'\n",
    "dw_stripes_br.loc[0, 'UC_NM_MN'] = 'Cidade'"
   ]
  },
  {
   "cell_type": "code",
   "execution_count": null,
   "id": "b8ff3dde",
   "metadata": {},
   "outputs": [],
   "source": [
    "dw_stripes_br.to_csv(\"../output/datawrapper/datawrapper-stripes-br.csv\", index=False)"
   ]
  },
  {
   "cell_type": "markdown",
   "id": "2c9c19f3",
   "metadata": {},
   "source": [
    "#### Map"
   ]
  },
  {
   "cell_type": "code",
   "execution_count": null,
   "id": "f879e706",
   "metadata": {},
   "outputs": [],
   "source": [
    "# Geet only the desired columns\n",
    "dw_map_br = df_br[['UC_NM_MN', 'CTR_MN_NM', 'daily_mean', 'date', 'datetime', 'lat', 'lon']]"
   ]
  },
  {
   "cell_type": "code",
   "execution_count": null,
   "id": "4d527fba",
   "metadata": {},
   "outputs": [],
   "source": [
    "# Keeps only the last seven days\n",
    "max_date = dw_map_br.datetime.max()\n",
    "week_ago = max_date - timedelta(days=7)\n",
    "\n",
    "dw_map_br = dw_map_br[(dw_map_br.datetime <= max_date) & (dw_map_br.datetime > week_ago)]"
   ]
  },
  {
   "cell_type": "code",
   "execution_count": null,
   "id": "6dc69498",
   "metadata": {},
   "outputs": [],
   "source": [
    "dw_map_br = dw_map_br.groupby(['UC_NM_MN', 'lat', 'lon'])['daily_mean'].mean().reset_index()"
   ]
  },
  {
   "cell_type": "code",
   "execution_count": null,
   "id": "e29a0b2d",
   "metadata": {},
   "outputs": [],
   "source": [
    "start, end = week_ago.strftime('%d/%m'), max_date.strftime('%d/%m')\n",
    "time_interval = f\"Média semanal de partículas PM 2.5 por metro cúbico entre {start} e {end}\"\n",
    "time_interval"
   ]
  },
  {
   "cell_type": "code",
   "execution_count": null,
   "id": "ff6cd252",
   "metadata": {},
   "outputs": [],
   "source": [
    "dw_map_br = dw_map_br.rename(columns={'daily_mean':time_interval})"
   ]
  },
  {
   "cell_type": "code",
   "execution_count": null,
   "id": "d6ad28e6",
   "metadata": {},
   "outputs": [],
   "source": [
    "dw_map_br.head()"
   ]
  },
  {
   "cell_type": "code",
   "execution_count": null,
   "id": "15f04f08",
   "metadata": {},
   "outputs": [],
   "source": [
    "dw_map_br.to_csv(\"../output/datawrapper/datwrapper-map-br.csv\", index=False)"
   ]
  },
  {
   "cell_type": "code",
   "execution_count": null,
   "id": "e439fa4b",
   "metadata": {},
   "outputs": [],
   "source": []
  }
 ],
 "metadata": {
  "kernelspec": {
   "display_name": "Python 3 (ipykernel)",
   "language": "python",
   "name": "python3"
  },
  "language_info": {
   "codemirror_mode": {
    "name": "ipython",
    "version": 3
   },
   "file_extension": ".py",
   "mimetype": "text/x-python",
   "name": "python",
   "nbconvert_exporter": "python",
   "pygments_lexer": "ipython3",
   "version": "3.11.5"
  }
 },
 "nbformat": 4,
 "nbformat_minor": 5
}
