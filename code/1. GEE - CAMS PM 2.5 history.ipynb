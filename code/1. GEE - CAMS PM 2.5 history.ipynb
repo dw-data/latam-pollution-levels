{
 "cells": [
  {
   "cell_type": "markdown",
   "id": "27e51f35",
   "metadata": {},
   "source": [
    "# 1. GEE - CAMS PM 2.5 history\n",
    "Uses the CAMS dataset on Google Earth Engine\n",
    "and the location of our cities of interest\n",
    "to compute the mean pollution level at each city,\n",
    "for different points in time. Also calculates\n",
    "the historical average for the available period."
   ]
  },
  {
   "cell_type": "code",
   "execution_count": 110,
   "id": "52187299",
   "metadata": {},
   "outputs": [
    {
     "data": {
      "text/html": [
       "\n",
       "            <style>\n",
       "                .geemap-dark {\n",
       "                    --jp-widgets-color: white;\n",
       "                    --jp-widgets-label-color: white;\n",
       "                    --jp-ui-font-color1: white;\n",
       "                    --jp-layout-color2: #454545;\n",
       "                    background-color: #383838;\n",
       "                }\n",
       "\n",
       "                .geemap-dark .jupyter-button {\n",
       "                    --jp-layout-color3: #383838;\n",
       "                }\n",
       "\n",
       "                .geemap-colab {\n",
       "                    background-color: var(--colab-primary-surface-color, white);\n",
       "                }\n",
       "\n",
       "                .geemap-colab .jupyter-button {\n",
       "                    --jp-layout-color3: var(--colab-primary-surface-color, white);\n",
       "                }\n",
       "            </style>\n",
       "            "
      ],
      "text/plain": [
       "<IPython.core.display.HTML object>"
      ]
     },
     "metadata": {},
     "output_type": "display_data"
    }
   ],
   "source": [
    "import ee\n",
    "import geemap\n",
    "import geetools\n",
    "import pandas as pd"
   ]
  },
  {
   "cell_type": "code",
   "execution_count": 111,
   "id": "93c8bdf6",
   "metadata": {},
   "outputs": [
    {
     "data": {
      "text/html": [
       "\n",
       "            <style>\n",
       "                .geemap-dark {\n",
       "                    --jp-widgets-color: white;\n",
       "                    --jp-widgets-label-color: white;\n",
       "                    --jp-ui-font-color1: white;\n",
       "                    --jp-layout-color2: #454545;\n",
       "                    background-color: #383838;\n",
       "                }\n",
       "\n",
       "                .geemap-dark .jupyter-button {\n",
       "                    --jp-layout-color3: #383838;\n",
       "                }\n",
       "\n",
       "                .geemap-colab {\n",
       "                    background-color: var(--colab-primary-surface-color, white);\n",
       "                }\n",
       "\n",
       "                .geemap-colab .jupyter-button {\n",
       "                    --jp-layout-color3: var(--colab-primary-surface-color, white);\n",
       "                }\n",
       "            </style>\n",
       "            "
      ],
      "text/plain": [
       "<IPython.core.display.HTML object>"
      ]
     },
     "metadata": {},
     "output_type": "display_data"
    }
   ],
   "source": [
    "# Function to add 'date' property (just the day, ignoring hours)\n",
    "def add_date(image):\n",
    "    \n",
    "    date = ee.Date(image.get('model_initialization_datetime')).format('YYYY-MM-dd');\n",
    "    year = ee.Date(image.get('model_initialization_datetime')).get('year')\n",
    "    month = ee.Date(image.get('model_initialization_datetime')).get('month')\n",
    "    week = ee.Date(image.get('model_initialization_datetime')).get('week')\n",
    "    day = ee.Date(image.get('model_initialization_datetime')).get('day')\n",
    "    \n",
    "    forecast_hour = image.get('model_forecast_hour');\n",
    "    \n",
    "    \n",
    "    return image.set({\n",
    "        \"date\": date,\n",
    "        \"year\": year,\n",
    "        \"month\": month,\n",
    "        \"week\": week,\n",
    "        \"day\": day\n",
    "    })"
   ]
  },
  {
   "cell_type": "code",
   "execution_count": 112,
   "id": "6741ad52",
   "metadata": {},
   "outputs": [
    {
     "data": {
      "text/html": [
       "\n",
       "            <style>\n",
       "                .geemap-dark {\n",
       "                    --jp-widgets-color: white;\n",
       "                    --jp-widgets-label-color: white;\n",
       "                    --jp-ui-font-color1: white;\n",
       "                    --jp-layout-color2: #454545;\n",
       "                    background-color: #383838;\n",
       "                }\n",
       "\n",
       "                .geemap-dark .jupyter-button {\n",
       "                    --jp-layout-color3: #383838;\n",
       "                }\n",
       "\n",
       "                .geemap-colab {\n",
       "                    background-color: var(--colab-primary-surface-color, white);\n",
       "                }\n",
       "\n",
       "                .geemap-colab .jupyter-button {\n",
       "                    --jp-layout-color3: var(--colab-primary-surface-color, white);\n",
       "                }\n",
       "            </style>\n",
       "            "
      ],
      "text/plain": [
       "<IPython.core.display.HTML object>"
      ]
     },
     "metadata": {},
     "output_type": "display_data"
    }
   ],
   "source": [
    "def monthly_historical_mean(month):\n",
    "    \n",
    "    filtered = cams_collection.filter(ee.Filter.eq('month', month))\n",
    "    mean = filtered.mean()\n",
    "    \n",
    "    return mean.set('month', month)"
   ]
  },
  {
   "cell_type": "code",
   "execution_count": 113,
   "id": "5fc0996b",
   "metadata": {},
   "outputs": [
    {
     "data": {
      "text/html": [
       "\n",
       "            <style>\n",
       "                .geemap-dark {\n",
       "                    --jp-widgets-color: white;\n",
       "                    --jp-widgets-label-color: white;\n",
       "                    --jp-ui-font-color1: white;\n",
       "                    --jp-layout-color2: #454545;\n",
       "                    background-color: #383838;\n",
       "                }\n",
       "\n",
       "                .geemap-dark .jupyter-button {\n",
       "                    --jp-layout-color3: #383838;\n",
       "                }\n",
       "\n",
       "                .geemap-colab {\n",
       "                    background-color: var(--colab-primary-surface-color, white);\n",
       "                }\n",
       "\n",
       "                .geemap-colab .jupyter-button {\n",
       "                    --jp-layout-color3: var(--colab-primary-surface-color, white);\n",
       "                }\n",
       "            </style>\n",
       "            "
      ],
      "text/plain": [
       "<IPython.core.display.HTML object>"
      ]
     },
     "metadata": {},
     "output_type": "display_data"
    }
   ],
   "source": [
    "def weekly_historical_mean(week):\n",
    "    \n",
    "    filtered = cams_collection.filter(ee.Filter.eq('week', week))\n",
    "    mean = filtered.mean()\n",
    "    \n",
    "    return mean.set('week', week)"
   ]
  },
  {
   "cell_type": "code",
   "execution_count": 114,
   "id": "f985cf26",
   "metadata": {},
   "outputs": [
    {
     "data": {
      "text/html": [
       "\n",
       "            <style>\n",
       "                .geemap-dark {\n",
       "                    --jp-widgets-color: white;\n",
       "                    --jp-widgets-label-color: white;\n",
       "                    --jp-ui-font-color1: white;\n",
       "                    --jp-layout-color2: #454545;\n",
       "                    background-color: #383838;\n",
       "                }\n",
       "\n",
       "                .geemap-dark .jupyter-button {\n",
       "                    --jp-layout-color3: #383838;\n",
       "                }\n",
       "\n",
       "                .geemap-colab {\n",
       "                    background-color: var(--colab-primary-surface-color, white);\n",
       "                }\n",
       "\n",
       "                .geemap-colab .jupyter-button {\n",
       "                    --jp-layout-color3: var(--colab-primary-surface-color, white);\n",
       "                }\n",
       "            </style>\n",
       "            "
      ],
      "text/plain": [
       "<IPython.core.display.HTML object>"
      ]
     },
     "metadata": {},
     "output_type": "display_data"
    }
   ],
   "source": [
    "def recent_daily_means(date):\n",
    "    \n",
    "    filtered = cams_filtered.filter(ee.Filter.eq('date', date))\n",
    "    mean = filtered.mean()\n",
    "    \n",
    "    return mean.set('date', date)"
   ]
  },
  {
   "cell_type": "code",
   "execution_count": 115,
   "id": "daa1ce9e",
   "metadata": {},
   "outputs": [
    {
     "data": {
      "text/html": [
       "\n",
       "            <style>\n",
       "                .geemap-dark {\n",
       "                    --jp-widgets-color: white;\n",
       "                    --jp-widgets-label-color: white;\n",
       "                    --jp-ui-font-color1: white;\n",
       "                    --jp-layout-color2: #454545;\n",
       "                    background-color: #383838;\n",
       "                }\n",
       "\n",
       "                .geemap-dark .jupyter-button {\n",
       "                    --jp-layout-color3: #383838;\n",
       "                }\n",
       "\n",
       "                .geemap-colab {\n",
       "                    background-color: var(--colab-primary-surface-color, white);\n",
       "                }\n",
       "\n",
       "                .geemap-colab .jupyter-button {\n",
       "                    --jp-layout-color3: var(--colab-primary-surface-color, white);\n",
       "                }\n",
       "            </style>\n",
       "            "
      ],
      "text/plain": [
       "<IPython.core.display.HTML object>"
      ]
     },
     "metadata": {},
     "output_type": "display_data"
    }
   ],
   "source": [
    "ee.Initialize()"
   ]
  },
  {
   "cell_type": "code",
   "execution_count": 116,
   "id": "d59fbfbe",
   "metadata": {},
   "outputs": [
    {
     "data": {
      "text/html": [
       "\n",
       "            <style>\n",
       "                .geemap-dark {\n",
       "                    --jp-widgets-color: white;\n",
       "                    --jp-widgets-label-color: white;\n",
       "                    --jp-ui-font-color1: white;\n",
       "                    --jp-layout-color2: #454545;\n",
       "                    background-color: #383838;\n",
       "                }\n",
       "\n",
       "                .geemap-dark .jupyter-button {\n",
       "                    --jp-layout-color3: #383838;\n",
       "                }\n",
       "\n",
       "                .geemap-colab {\n",
       "                    background-color: var(--colab-primary-surface-color, white);\n",
       "                }\n",
       "\n",
       "                .geemap-colab .jupyter-button {\n",
       "                    --jp-layout-color3: var(--colab-primary-surface-color, white);\n",
       "                }\n",
       "            </style>\n",
       "            "
      ],
      "text/plain": [
       "<IPython.core.display.HTML object>"
      ]
     },
     "metadata": {},
     "output_type": "display_data"
    }
   ],
   "source": [
    "# All available CAMS images, within a 24h forecast and a 0h UTC\n",
    "cams_collection = (ee.ImageCollection('ECMWF/CAMS/NRT')\n",
    "                   .filterDate(\"2017-01-01\", \"2023-12-31\")\n",
    "                   .filter(ee.Filter.eq('model_initialization_hour', 0))\n",
    "                   .filter(ee.Filter.lte('model_forecast_hour', 21))\n",
    "                   .select('particulate_matter_d_less_than_25_um_surface'))"
   ]
  },
  {
   "cell_type": "code",
   "execution_count": 117,
   "id": "22ba7c0a",
   "metadata": {},
   "outputs": [
    {
     "data": {
      "text/html": [
       "\n",
       "            <style>\n",
       "                .geemap-dark {\n",
       "                    --jp-widgets-color: white;\n",
       "                    --jp-widgets-label-color: white;\n",
       "                    --jp-ui-font-color1: white;\n",
       "                    --jp-layout-color2: #454545;\n",
       "                    background-color: #383838;\n",
       "                }\n",
       "\n",
       "                .geemap-dark .jupyter-button {\n",
       "                    --jp-layout-color3: #383838;\n",
       "                }\n",
       "\n",
       "                .geemap-colab {\n",
       "                    background-color: var(--colab-primary-surface-color, white);\n",
       "                }\n",
       "\n",
       "                .geemap-colab .jupyter-button {\n",
       "                    --jp-layout-color3: var(--colab-primary-surface-color, white);\n",
       "                }\n",
       "            </style>\n",
       "            "
      ],
      "text/plain": [
       "<IPython.core.display.HTML object>"
      ]
     },
     "metadata": {},
     "output_type": "display_data"
    }
   ],
   "source": [
    "# The images from the time which we will analyze\n",
    "start_date = '2024-08-10'\n",
    "end_date = '2024-09-12'\n",
    "\n",
    "cams_filtered = (ee.ImageCollection('ECMWF/CAMS/NRT')\n",
    "                   .filterDate(start_date, end_date)\n",
    "                   .filter(ee.Filter.eq('model_initialization_hour', 0))\n",
    "                   .filter(ee.Filter.lte('model_forecast_hour', 21))\n",
    "                   .select('particulate_matter_d_less_than_25_um_surface'))"
   ]
  },
  {
   "cell_type": "code",
   "execution_count": 118,
   "id": "9cf22c73",
   "metadata": {},
   "outputs": [
    {
     "data": {
      "text/html": [
       "\n",
       "            <style>\n",
       "                .geemap-dark {\n",
       "                    --jp-widgets-color: white;\n",
       "                    --jp-widgets-label-color: white;\n",
       "                    --jp-ui-font-color1: white;\n",
       "                    --jp-layout-color2: #454545;\n",
       "                    background-color: #383838;\n",
       "                }\n",
       "\n",
       "                .geemap-dark .jupyter-button {\n",
       "                    --jp-layout-color3: #383838;\n",
       "                }\n",
       "\n",
       "                .geemap-colab {\n",
       "                    background-color: var(--colab-primary-surface-color, white);\n",
       "                }\n",
       "\n",
       "                .geemap-colab .jupyter-button {\n",
       "                    --jp-layout-color3: var(--colab-primary-surface-color, white);\n",
       "                }\n",
       "            </style>\n",
       "            "
      ],
      "text/plain": [
       "<IPython.core.display.HTML object>"
      ]
     },
     "metadata": {},
     "output_type": "display_data"
    }
   ],
   "source": [
    "# Apply the add_date function to each image in the collection\n",
    "cams_collection = cams_collection.map(add_date)\n",
    "cams_filtered = cams_filtered.map(add_date)"
   ]
  },
  {
   "cell_type": "code",
   "execution_count": 119,
   "id": "a8d7f08e",
   "metadata": {},
   "outputs": [
    {
     "data": {
      "text/html": [
       "\n",
       "            <style>\n",
       "                .geemap-dark {\n",
       "                    --jp-widgets-color: white;\n",
       "                    --jp-widgets-label-color: white;\n",
       "                    --jp-ui-font-color1: white;\n",
       "                    --jp-layout-color2: #454545;\n",
       "                    background-color: #383838;\n",
       "                }\n",
       "\n",
       "                .geemap-dark .jupyter-button {\n",
       "                    --jp-layout-color3: #383838;\n",
       "                }\n",
       "\n",
       "                .geemap-colab {\n",
       "                    background-color: var(--colab-primary-surface-color, white);\n",
       "                }\n",
       "\n",
       "                .geemap-colab .jupyter-button {\n",
       "                    --jp-layout-color3: var(--colab-primary-surface-color, white);\n",
       "                }\n",
       "            </style>\n",
       "            "
      ],
      "text/plain": [
       "<IPython.core.display.HTML object>"
      ]
     },
     "metadata": {},
     "output_type": "display_data"
    }
   ],
   "source": [
    "# First, let's compute the mean for every month and week, at every pixel\n",
    "unique_months = cams_collection.aggregate_array('month').distinct()\n",
    "unique_weeks = cams_collection.aggregate_array('week').distinct()\n",
    "\n",
    "monthly_history = ee.ImageCollection(unique_months.map(monthly_historical_mean))\n",
    "weekly_history = ee.ImageCollection(unique_weeks.map(weekly_historical_mean))"
   ]
  },
  {
   "cell_type": "code",
   "execution_count": 120,
   "id": "58a7becf",
   "metadata": {},
   "outputs": [
    {
     "data": {
      "text/html": [
       "\n",
       "            <style>\n",
       "                .geemap-dark {\n",
       "                    --jp-widgets-color: white;\n",
       "                    --jp-widgets-label-color: white;\n",
       "                    --jp-ui-font-color1: white;\n",
       "                    --jp-layout-color2: #454545;\n",
       "                    background-color: #383838;\n",
       "                }\n",
       "\n",
       "                .geemap-dark .jupyter-button {\n",
       "                    --jp-layout-color3: #383838;\n",
       "                }\n",
       "\n",
       "                .geemap-colab {\n",
       "                    background-color: var(--colab-primary-surface-color, white);\n",
       "                }\n",
       "\n",
       "                .geemap-colab .jupyter-button {\n",
       "                    --jp-layout-color3: var(--colab-primary-surface-color, white);\n",
       "                }\n",
       "            </style>\n",
       "            "
      ],
      "text/plain": [
       "<IPython.core.display.HTML object>"
      ]
     },
     "metadata": {},
     "output_type": "display_data"
    }
   ],
   "source": [
    "monthly_size = monthly_history.size().getInfo()\n",
    "monthly_history = monthly_history.toList(monthly_size)"
   ]
  },
  {
   "cell_type": "code",
   "execution_count": 129,
   "id": "35161a6a",
   "metadata": {},
   "outputs": [
    {
     "data": {
      "text/html": [
       "\n",
       "            <style>\n",
       "                .geemap-dark {\n",
       "                    --jp-widgets-color: white;\n",
       "                    --jp-widgets-label-color: white;\n",
       "                    --jp-ui-font-color1: white;\n",
       "                    --jp-layout-color2: #454545;\n",
       "                    background-color: #383838;\n",
       "                }\n",
       "\n",
       "                .geemap-dark .jupyter-button {\n",
       "                    --jp-layout-color3: #383838;\n",
       "                }\n",
       "\n",
       "                .geemap-colab {\n",
       "                    background-color: var(--colab-primary-surface-color, white);\n",
       "                }\n",
       "\n",
       "                .geemap-colab .jupyter-button {\n",
       "                    --jp-layout-color3: var(--colab-primary-surface-color, white);\n",
       "                }\n",
       "            </style>\n",
       "            "
      ],
      "text/plain": [
       "<IPython.core.display.HTML object>"
      ]
     },
     "metadata": {},
     "output_type": "display_data"
    }
   ],
   "source": [
    "# Exports each entry in the image\n",
    "def export_monthly_image(image, month):\n",
    "    \n",
    "    # Get the image ID (or generate one if the ID is empty)\n",
    "    # Create export task for the image\n",
    "    task = ee.batch.Export.image.toAsset(\n",
    "        image=image,\n",
    "        description=f'Month_{month}_Mean',\n",
    "        assetId=f'projects/ee-tree-coverage-cities/assets/pm2p5-monthly-2017-2023/Month_{month}_Mean',  # Replace with your asset path\n",
    "        region=[-90, -60, 30, 15], \n",
    "        scale=44528\n",
    "    )\n",
    "\n",
    "    # Start the export task\n",
    "    task.start()\n",
    "    print(f'Exporting image for month {month}')"
   ]
  },
  {
   "cell_type": "code",
   "execution_count": 130,
   "id": "0862e4d4",
   "metadata": {},
   "outputs": [
    {
     "data": {
      "text/html": [
       "\n",
       "            <style>\n",
       "                .geemap-dark {\n",
       "                    --jp-widgets-color: white;\n",
       "                    --jp-widgets-label-color: white;\n",
       "                    --jp-ui-font-color1: white;\n",
       "                    --jp-layout-color2: #454545;\n",
       "                    background-color: #383838;\n",
       "                }\n",
       "\n",
       "                .geemap-dark .jupyter-button {\n",
       "                    --jp-layout-color3: #383838;\n",
       "                }\n",
       "\n",
       "                .geemap-colab {\n",
       "                    background-color: var(--colab-primary-surface-color, white);\n",
       "                }\n",
       "\n",
       "                .geemap-colab .jupyter-button {\n",
       "                    --jp-layout-color3: var(--colab-primary-surface-color, white);\n",
       "                }\n",
       "            </style>\n",
       "            "
      ],
      "text/plain": [
       "<IPython.core.display.HTML object>"
      ]
     },
     "metadata": {},
     "output_type": "display_data"
    },
    {
     "name": "stdout",
     "output_type": "stream",
     "text": [
      "Exporting image for month 1\n",
      "Exporting image for month 2\n",
      "Exporting image for month 3\n",
      "Exporting image for month 4\n",
      "Exporting image for month 5\n",
      "Exporting image for month 6\n",
      "Exporting image for month 7\n",
      "Exporting image for month 8\n",
      "Exporting image for month 9\n",
      "Exporting image for month 10\n",
      "Exporting image for month 11\n",
      "Exporting image for month 12\n"
     ]
    }
   ],
   "source": [
    "for i, month in enumerate(range(1,13)):\n",
    "    image = ee.Image(monthly_history.get(i))\n",
    "    export_monthly_image(image, month)"
   ]
  },
  {
   "cell_type": "code",
   "execution_count": 134,
   "id": "dc213ed1",
   "metadata": {},
   "outputs": [
    {
     "data": {
      "text/html": [
       "\n",
       "            <style>\n",
       "                .geemap-dark {\n",
       "                    --jp-widgets-color: white;\n",
       "                    --jp-widgets-label-color: white;\n",
       "                    --jp-ui-font-color1: white;\n",
       "                    --jp-layout-color2: #454545;\n",
       "                    background-color: #383838;\n",
       "                }\n",
       "\n",
       "                .geemap-dark .jupyter-button {\n",
       "                    --jp-layout-color3: #383838;\n",
       "                }\n",
       "\n",
       "                .geemap-colab {\n",
       "                    background-color: var(--colab-primary-surface-color, white);\n",
       "                }\n",
       "\n",
       "                .geemap-colab .jupyter-button {\n",
       "                    --jp-layout-color3: var(--colab-primary-surface-color, white);\n",
       "                }\n",
       "            </style>\n",
       "            "
      ],
      "text/plain": [
       "<IPython.core.display.HTML object>"
      ]
     },
     "metadata": {},
     "output_type": "display_data"
    }
   ],
   "source": [
    "# Access the september data\n",
    "september_history = ee.Image(\"projects/ee-tree-coverage-cities/assets/pm2p5-monthly-2017-2023/Month_9_Mean\")"
   ]
  },
  {
   "cell_type": "code",
   "execution_count": 135,
   "id": "324e7610",
   "metadata": {},
   "outputs": [
    {
     "data": {
      "text/html": [
       "\n",
       "            <style>\n",
       "                .geemap-dark {\n",
       "                    --jp-widgets-color: white;\n",
       "                    --jp-widgets-label-color: white;\n",
       "                    --jp-ui-font-color1: white;\n",
       "                    --jp-layout-color2: #454545;\n",
       "                    background-color: #383838;\n",
       "                }\n",
       "\n",
       "                .geemap-dark .jupyter-button {\n",
       "                    --jp-layout-color3: #383838;\n",
       "                }\n",
       "\n",
       "                .geemap-colab {\n",
       "                    background-color: var(--colab-primary-surface-color, white);\n",
       "                }\n",
       "\n",
       "                .geemap-colab .jupyter-button {\n",
       "                    --jp-layout-color3: var(--colab-primary-surface-color, white);\n",
       "                }\n",
       "            </style>\n",
       "            "
      ],
      "text/plain": [
       "<IPython.core.display.HTML object>"
      ]
     },
     "metadata": {},
     "output_type": "display_data"
    }
   ],
   "source": [
    "# Compute the daily means for the interval of interest\n",
    "unique_dates = cams_filtered.aggregate_array('date').distinct()\n",
    "recent_daily_means = ee.ImageCollection(unique_dates.map(recent_daily_means))"
   ]
  },
  {
   "cell_type": "code",
   "execution_count": 136,
   "id": "74097a65",
   "metadata": {},
   "outputs": [
    {
     "data": {
      "text/html": [
       "\n",
       "            <style>\n",
       "                .geemap-dark {\n",
       "                    --jp-widgets-color: white;\n",
       "                    --jp-widgets-label-color: white;\n",
       "                    --jp-ui-font-color1: white;\n",
       "                    --jp-layout-color2: #454545;\n",
       "                    background-color: #383838;\n",
       "                }\n",
       "\n",
       "                .geemap-dark .jupyter-button {\n",
       "                    --jp-layout-color3: #383838;\n",
       "                }\n",
       "\n",
       "                .geemap-colab {\n",
       "                    background-color: var(--colab-primary-surface-color, white);\n",
       "                }\n",
       "\n",
       "                .geemap-colab .jupyter-button {\n",
       "                    --jp-layout-color3: var(--colab-primary-surface-color, white);\n",
       "                }\n",
       "            </style>\n",
       "            "
      ],
      "text/plain": [
       "<IPython.core.display.HTML object>"
      ]
     },
     "metadata": {},
     "output_type": "display_data"
    }
   ],
   "source": [
    "# Load the cities feature collection and filter for South American countries\n",
    "southAmericaISO = ['ARG', 'BOL', 'BRA', 'CHL', 'COL', 'ECU', 'GUY', 'PRY', 'PER', 'SUR', 'URY', 'VEN'];\n",
    "cities = ee.FeatureCollection(\"projects/dw-city-tree-coverage/assets/city_outlines\")\\\n",
    "              .filter(ee.Filter.inList('CTR_MN_ISO', southAmericaISO))\\\n",
    "              .filter(ee.Filter.gte('P15', 2e5));\n"
   ]
  },
  {
   "cell_type": "code",
   "execution_count": 137,
   "id": "007e19dd",
   "metadata": {},
   "outputs": [
    {
     "data": {
      "text/html": [
       "\n",
       "            <style>\n",
       "                .geemap-dark {\n",
       "                    --jp-widgets-color: white;\n",
       "                    --jp-widgets-label-color: white;\n",
       "                    --jp-ui-font-color1: white;\n",
       "                    --jp-layout-color2: #454545;\n",
       "                    background-color: #383838;\n",
       "                }\n",
       "\n",
       "                .geemap-dark .jupyter-button {\n",
       "                    --jp-layout-color3: #383838;\n",
       "                }\n",
       "\n",
       "                .geemap-colab {\n",
       "                    background-color: var(--colab-primary-surface-color, white);\n",
       "                }\n",
       "\n",
       "                .geemap-colab .jupyter-button {\n",
       "                    --jp-layout-color3: var(--colab-primary-surface-color, white);\n",
       "                }\n",
       "            </style>\n",
       "            "
      ],
      "text/plain": [
       "<IPython.core.display.HTML object>"
      ]
     },
     "metadata": {},
     "output_type": "display_data"
    }
   ],
   "source": [
    "# Reduces of the recent images over the cities, getting an average of the territory\n",
    "def daily_mean_for_cities(image):\n",
    "    \n",
    "    # Use reduceRegions to calculate the mean PM2.5 over each city\n",
    "    \n",
    "    means = image.reduceRegions(\n",
    "        collection=cities,                  # The cities feature collection\n",
    "        reducer=ee.Reducer.mean(),          # Use mean reducer\n",
    "        scale=44528,                        # Adjust scale based on the dataset resolution\n",
    "    )\n",
    "    \n",
    "    # Add the 'date' property from the image to each feature (city)\n",
    "    means_with_date = means.map(lambda feature: feature.set('date', image.get('date')))\n",
    "    return means_with_date\n",
    "\n",
    "# Apply the mean_for_cities function to all images in the dailyMeans ImageCollection\n",
    "city_recent_daily_means = recent_daily_means.map(daily_mean_for_cities).flatten()"
   ]
  },
  {
   "cell_type": "code",
   "execution_count": 146,
   "id": "9ee1a553",
   "metadata": {},
   "outputs": [
    {
     "data": {
      "text/html": [
       "\n",
       "            <style>\n",
       "                .geemap-dark {\n",
       "                    --jp-widgets-color: white;\n",
       "                    --jp-widgets-label-color: white;\n",
       "                    --jp-ui-font-color1: white;\n",
       "                    --jp-layout-color2: #454545;\n",
       "                    background-color: #383838;\n",
       "                }\n",
       "\n",
       "                .geemap-dark .jupyter-button {\n",
       "                    --jp-layout-color3: #383838;\n",
       "                }\n",
       "\n",
       "                .geemap-colab {\n",
       "                    background-color: var(--colab-primary-surface-color, white);\n",
       "                }\n",
       "\n",
       "                .geemap-colab .jupyter-button {\n",
       "                    --jp-layout-color3: var(--colab-primary-surface-color, white);\n",
       "                }\n",
       "            </style>\n",
       "            "
      ],
      "text/plain": [
       "<IPython.core.display.HTML object>"
      ]
     },
     "metadata": {},
     "output_type": "display_data"
    }
   ],
   "source": [
    "# Apply the mean_for_cities function to all images in the dailyMeans ImageCollection\n",
    "city_september_history = september_history.reduceRegions(\n",
    "        collection=cities,                  # The cities feature collection\n",
    "        reducer=ee.Reducer.mean(),          # Use mean reducer\n",
    "        scale=44528,                        # Adjust scale based on the dataset resolution\n",
    "    ).map(lambda feature: feature.set('month', september_history.get('month')))"
   ]
  },
  {
   "cell_type": "code",
   "execution_count": 147,
   "id": "0492a16f",
   "metadata": {},
   "outputs": [
    {
     "data": {
      "text/html": [
       "\n",
       "            <style>\n",
       "                .geemap-dark {\n",
       "                    --jp-widgets-color: white;\n",
       "                    --jp-widgets-label-color: white;\n",
       "                    --jp-ui-font-color1: white;\n",
       "                    --jp-layout-color2: #454545;\n",
       "                    background-color: #383838;\n",
       "                }\n",
       "\n",
       "                .geemap-dark .jupyter-button {\n",
       "                    --jp-layout-color3: #383838;\n",
       "                }\n",
       "\n",
       "                .geemap-colab {\n",
       "                    background-color: var(--colab-primary-surface-color, white);\n",
       "                }\n",
       "\n",
       "                .geemap-colab .jupyter-button {\n",
       "                    --jp-layout-color3: var(--colab-primary-surface-color, white);\n",
       "                }\n",
       "            </style>\n",
       "            "
      ],
      "text/plain": [
       "<IPython.core.display.HTML object>"
      ]
     },
     "metadata": {},
     "output_type": "display_data"
    },
    {
     "name": "stdout",
     "output_type": "stream",
     "text": [
      "Exporting city_september_history as CSV to Google Drive.\n",
      "Exporting city_recent_daily_means as CSV to Google Drive.\n"
     ]
    }
   ],
   "source": [
    "# Export the tree to Google Drive\n",
    "feature_collections = [\n",
    "    city_september_history,\n",
    "    city_recent_daily_means,\n",
    "]\n",
    "\n",
    "# Define corresponding filenames for the exports\n",
    "filenames = [\n",
    "    'city_september_history',\n",
    "    'city_recent_daily_means',\n",
    "]\n",
    "\n",
    "# Loop through each FeatureCollection and export it as a CSV file to Google Drive\n",
    "for fc, filename in zip(feature_collections, filenames):\n",
    "    task = ee.batch.Export.table.toDrive(\n",
    "        collection=fc,\n",
    "        description=filename,\n",
    "        fileFormat='CSV',  # Export format\n",
    "        folder='GEE_Exports_PollutionSouthAmerica',  # Google Drive folder (change if necessary)\n",
    "    )\n",
    "    \n",
    "    # Start the export task\n",
    "    task.start()\n",
    "\n",
    "    # Print confirmation\n",
    "    print(f\"Exporting {filename} as CSV to Google Drive.\")\n"
   ]
  },
  {
   "cell_type": "code",
   "execution_count": 148,
   "id": "03d21d68",
   "metadata": {},
   "outputs": [
    {
     "data": {
      "text/html": [
       "\n",
       "            <style>\n",
       "                .geemap-dark {\n",
       "                    --jp-widgets-color: white;\n",
       "                    --jp-widgets-label-color: white;\n",
       "                    --jp-ui-font-color1: white;\n",
       "                    --jp-layout-color2: #454545;\n",
       "                    background-color: #383838;\n",
       "                }\n",
       "\n",
       "                .geemap-dark .jupyter-button {\n",
       "                    --jp-layout-color3: #383838;\n",
       "                }\n",
       "\n",
       "                .geemap-colab {\n",
       "                    background-color: var(--colab-primary-surface-color, white);\n",
       "                }\n",
       "\n",
       "                .geemap-colab .jupyter-button {\n",
       "                    --jp-layout-color3: var(--colab-primary-surface-color, white);\n",
       "                }\n",
       "            </style>\n",
       "            "
      ],
      "text/plain": [
       "<IPython.core.display.HTML object>"
      ]
     },
     "metadata": {},
     "output_type": "display_data"
    },
    {
     "data": {
      "text/plain": [
       "{'type': 'Image',\n",
       " 'bands': [{'id': 'particulate_matter_d_less_than_25_um_surface',\n",
       "   'data_type': {'type': 'PixelType', 'precision': 'float'},\n",
       "   'dimensions': [300, 193],\n",
       "   'crs': 'EPSG:4326',\n",
       "   'crs_transform': [0.4000018297127405,\n",
       "    0,\n",
       "    -90.00041168536661,\n",
       "    0,\n",
       "    -0.4000018297127405,\n",
       "    15.20006952908414]}],\n",
       " 'version': 1726089536529169,\n",
       " 'id': 'projects/ee-tree-coverage-cities/assets/pm2p5-monthly-2017-2023/Month_9_Mean',\n",
       " 'properties': {'month': 9,\n",
       "  'system:footprint': {'type': 'LinearRing',\n",
       "   'coordinates': [[-30.000137136213453, -62.20165264017084],\n",
       "    [-15.050068927421446, -62.201652655178236],\n",
       "    [7.375033801253107, -62.20165263119034],\n",
       "    [30.654128989693984, -62.17599187719717],\n",
       "    [30.213473887662133, 15.393535273841623],\n",
       "    [22.325102103106865, 15.40083034359519],\n",
       "    [-0.10000045242140376, 15.400830395540064],\n",
       "    [-15.050068808848824, 15.400830349886375],\n",
       "    [-30.000137218956564, 15.400830386362106],\n",
       "    [-52.42523977274817, 15.400830398443647],\n",
       "    [-74.8503423761413, 15.400830358405692],\n",
       "    [-90.21374833659779, 15.393535255094491],\n",
       "    [-90.65440342440013, -62.175991873105936],\n",
       "    [-74.85034234455712, -62.20165262017366],\n",
       "    [-59.90027405921066, -62.201652617821416],\n",
       "    [-44.950205664654675, -62.20165264812887],\n",
       "    [-30.000137136213453, -62.20165264017084]]},\n",
       "  'system:asset_size': 250042}}"
      ]
     },
     "execution_count": 148,
     "metadata": {},
     "output_type": "execute_result"
    }
   ],
   "source": [
    "september_history.getInfo()"
   ]
  },
  {
   "cell_type": "code",
   "execution_count": null,
   "id": "48b593c2",
   "metadata": {},
   "outputs": [],
   "source": []
  },
  {
   "cell_type": "code",
   "execution_count": null,
   "id": "61e19665",
   "metadata": {},
   "outputs": [],
   "source": []
  }
 ],
 "metadata": {
  "kernelspec": {
   "display_name": "Python 3 (ipykernel)",
   "language": "python",
   "name": "python3"
  },
  "language_info": {
   "codemirror_mode": {
    "name": "ipython",
    "version": 3
   },
   "file_extension": ".py",
   "mimetype": "text/x-python",
   "name": "python",
   "nbconvert_exporter": "python",
   "pygments_lexer": "ipython3",
   "version": "3.11.5"
  }
 },
 "nbformat": 4,
 "nbformat_minor": 5
}
