{
 "cells": [
  {
   "cell_type": "code",
   "execution_count": 1,
   "id": "0d5cb031",
   "metadata": {},
   "outputs": [],
   "source": [
    "# Quickly computes the deviation from the September averages\n",
    "# for selected cities"
   ]
  },
  {
   "cell_type": "code",
   "execution_count": 2,
   "id": "04c9b2fa",
   "metadata": {},
   "outputs": [],
   "source": [
    "import pandas as  pd"
   ]
  },
  {
   "cell_type": "code",
   "execution_count": 3,
   "id": "9593ec82",
   "metadata": {},
   "outputs": [],
   "source": [
    "# Reading data"
   ]
  },
  {
   "cell_type": "code",
   "execution_count": 4,
   "id": "760677d1",
   "metadata": {},
   "outputs": [],
   "source": [
    "sept_history = pd.read_csv(\"../data/city_september_history.csv\")"
   ]
  },
  {
   "cell_type": "code",
   "execution_count": 5,
   "id": "261f9f61",
   "metadata": {},
   "outputs": [],
   "source": [
    "# Merging"
   ]
  },
  {
   "cell_type": "code",
   "execution_count": 6,
   "id": "80f70a2b",
   "metadata": {},
   "outputs": [],
   "source": [
    "daily_means = pd.read_csv(\"../data/city_recent_daily_means.csv\")"
   ]
  },
  {
   "cell_type": "code",
   "execution_count": 7,
   "id": "464481a2",
   "metadata": {},
   "outputs": [],
   "source": [
    "daily_means = daily_means.merge(sept_history[['ID_HDC_G0', 'mean']], on='ID_HDC_G0', suffixes=(\"\", \"_sept\"))"
   ]
  },
  {
   "cell_type": "code",
   "execution_count": 8,
   "id": "1c0ca54c",
   "metadata": {},
   "outputs": [],
   "source": [
    "# Cleaning"
   ]
  },
  {
   "cell_type": "code",
   "execution_count": 9,
   "id": "7cf88835",
   "metadata": {},
   "outputs": [],
   "source": [
    "daily_means = daily_means[[\"date\", \"ID_HDC_G0\", \"UC_NM_MN\", \"UC_NM_LST\",\n",
    "                           \"CTR_MN_NM\", \"CTR_MN_ISO\", \n",
    "                           \"mean\", \"mean_sept\"]]"
   ]
  },
  {
   "cell_type": "code",
   "execution_count": 10,
   "id": "4d4ff441",
   "metadata": {},
   "outputs": [],
   "source": [
    "daily_means = daily_means.set_index(pd.to_datetime(daily_means.date))"
   ]
  },
  {
   "cell_type": "code",
   "execution_count": 11,
   "id": "d830a3b1",
   "metadata": {},
   "outputs": [],
   "source": [
    "daily_means = daily_means.loc[\"2024-09-01\":]"
   ]
  },
  {
   "cell_type": "code",
   "execution_count": 12,
   "id": "437f8cad",
   "metadata": {},
   "outputs": [],
   "source": [
    "# Analysis"
   ]
  },
  {
   "cell_type": "code",
   "execution_count": 13,
   "id": "51024f68",
   "metadata": {},
   "outputs": [],
   "source": [
    "daily_means['variation_mean'] = daily_means['mean'] / daily_means['mean_sept']"
   ]
  },
  {
   "cell_type": "code",
   "execution_count": 14,
   "id": "e02c5f8a",
   "metadata": {},
   "outputs": [],
   "source": [
    "# Format as Datawrapper on selected cities\n",
    "cities = ['Porto Alegre', 'Florianopolis', 'Curitiba',\n",
    "          'Sao Paulo', 'Belo Horizonte', 'Rio de Janeiro', 'Vila Velha',\n",
    "          'Cuiaba', 'Campo Grande', 'Brasilia', 'Goiania',\n",
    "          'Palmas', 'Manaus', 'Belem', 'Rio Branco', 'Boa Vista', 'Macapa', 'Porto Velho',\n",
    "          'Sao Luis', 'Teresina', 'Natal', 'Fortaleza', 'Recife', 'Joao Pessoa', 'Aracaju', 'Maceio',\n",
    "          'Salvador'\n",
    "         ]"
   ]
  },
  {
   "cell_type": "code",
   "execution_count": 15,
   "id": "040226fa",
   "metadata": {},
   "outputs": [],
   "source": [
    "daily_means = daily_means[daily_means.UC_NM_MN.isin(cities)]"
   ]
  },
  {
   "cell_type": "code",
   "execution_count": 16,
   "id": "8e557545",
   "metadata": {},
   "outputs": [],
   "source": [
    "def transform_values(df, column):\n",
    "    \"\"\"\n",
    "    Transforms the values in the specified column of the DataFrame.\n",
    "    \n",
    "    For values less than 1, it returns 1 divided by the value, and multiplies by -1 to invert the sign.\n",
    "    For values greater than or equal to 1, it leaves the value unchanged.\n",
    "    \n",
    "    Args:\n",
    "    df: pandas DataFrame\n",
    "    column: the column where the transformation will be applied\n",
    "    \n",
    "    Returns:\n",
    "    pandas DataFrame with a new column containing the transformed values.\n",
    "    \"\"\"\n",
    "    df['transformed_' + column] = df[column].apply(lambda x: -1 / x if x < 1 else x)\n",
    "    return df"
   ]
  },
  {
   "cell_type": "code",
   "execution_count": 17,
   "id": "9c8aa198",
   "metadata": {},
   "outputs": [],
   "source": [
    "daily_means = transform_values(daily_means, 'variation_mean').sort_values(by='variation_mean')"
   ]
  },
  {
   "cell_type": "code",
   "execution_count": 18,
   "id": "60b0f285",
   "metadata": {},
   "outputs": [],
   "source": [
    "# Datawrapper forma\n",
    "dw_multiline = daily_means.pivot(index='date', columns=['UC_NM_MN'], values='variation_mean')"
   ]
  },
  {
   "cell_type": "code",
   "execution_count": 19,
   "id": "ca9e1720",
   "metadata": {},
   "outputs": [],
   "source": [
    "# Percentage of mean\n",
    "dw_multiline = (dw_multiline * 100).reset_index()"
   ]
  },
  {
   "cell_type": "code",
   "execution_count": 20,
   "id": "902f2a55",
   "metadata": {},
   "outputs": [],
   "source": [
    "dw_multiline['baseline'] = 100"
   ]
  },
  {
   "cell_type": "code",
   "execution_count": 21,
   "id": "d9ee617f",
   "metadata": {},
   "outputs": [],
   "source": [
    "dw_multiline.to_csv(\"../output/datawrapper-multiline.csv\", index=False)"
   ]
  },
  {
   "cell_type": "code",
   "execution_count": 46,
   "id": "4ab5ec39",
   "metadata": {},
   "outputs": [],
   "source": [
    "dw_stripes = (daily_means.pivot(index='UC_NM_MN', columns='date', values='mean') * 1e9).reset_index()"
   ]
  },
  {
   "cell_type": "code",
   "execution_count": 47,
   "id": "e1794c22",
   "metadata": {},
   "outputs": [],
   "source": [
    "dw_stripes.loc[-1] = \"\"  # adding a row\n",
    "dw_stripes.index = dw_stripes.index + 1  # shifting index\n",
    "dw_stripes = dw_stripes.sort_index()  # sorting by index"
   ]
  },
  {
   "cell_type": "code",
   "execution_count": 51,
   "id": "9dc96533",
   "metadata": {},
   "outputs": [],
   "source": [
    "dw_stripes[f\"1º de Setembro – 9 de Setembro\"] = \"\""
   ]
  },
  {
   "cell_type": "code",
   "execution_count": 40,
   "id": "00b67544",
   "metadata": {},
   "outputs": [],
   "source": [
    "dw_stripes.to_csv(\"../output/datawrapper-table.csv\", index=False)"
   ]
  },
  {
   "cell_type": "code",
   "execution_count": null,
   "id": "a7548c04",
   "metadata": {},
   "outputs": [],
   "source": []
  }
 ],
 "metadata": {
  "kernelspec": {
   "display_name": "Python 3 (ipykernel)",
   "language": "python",
   "name": "python3"
  },
  "language_info": {
   "codemirror_mode": {
    "name": "ipython",
    "version": 3
   },
   "file_extension": ".py",
   "mimetype": "text/x-python",
   "name": "python",
   "nbconvert_exporter": "python",
   "pygments_lexer": "ipython3",
   "version": "3.11.5"
  }
 },
 "nbformat": 4,
 "nbformat_minor": 5
}
